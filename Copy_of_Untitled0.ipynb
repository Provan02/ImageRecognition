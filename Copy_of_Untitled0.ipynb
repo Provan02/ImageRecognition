{
  "nbformat": 4,
  "nbformat_minor": 0,
  "metadata": {
    "colab": {
      "provenance": [],
      "include_colab_link": true
    },
    "kernelspec": {
      "name": "python3",
      "display_name": "Python 3"
    },
    "language_info": {
      "name": "python"
    },
    "accelerator": "GPU",
    "gpuClass": "standard"
  },
  "cells": [
    {
      "cell_type": "markdown",
      "metadata": {
        "id": "view-in-github",
        "colab_type": "text"
      },
      "source": [
        "<a href=\"https://colab.research.google.com/github/Provan02/ImageRecognition/blob/main/Copy_of_Untitled0.ipynb\" target=\"_parent\"><img src=\"https://colab.research.google.com/assets/colab-badge.svg\" alt=\"Open In Colab\"/></a>"
      ]
    },
    {
      "cell_type": "code",
      "execution_count": null,
      "metadata": {
        "colab": {
          "base_uri": "https://localhost:8080/"
        },
        "id": "GxLsHuylSeWY",
        "outputId": "3cbe2a6a-a707-4160-8dc4-33b8c2d3c10a"
      },
      "outputs": [
        {
          "output_type": "stream",
          "name": "stdout",
          "text": [
            "TF version: 2.12.0\n",
            "Hub version 0.13.0\n",
            "GPU is available\n"
          ]
        }
      ],
      "source": [
        "import itertools\n",
        "import os\n",
        "import matplotlib.pylab as plt\n",
        "import numpy as np\n",
        "import tensorflow as tf\n",
        "import tensorflow_hub as hub\n",
        "print(\"TF version:\", tf.__version__)\n",
        "print(\"Hub version\", hub.__version__)\n",
        "print(\"GPU is\", \"available\" if tf.config.list_physical_devices('GPU') else \"NOT AVAILABLE\")\n",
        "\n"
      ]
    },
    {
      "cell_type": "code",
      "source": [
        "from google.colab import drive\n",
        "drive.mount ('/content/drive')\n"
      ],
      "metadata": {
        "colab": {
          "base_uri": "https://localhost:8080/"
        },
        "id": "eDxnRE5IU7fF",
        "outputId": "8853ea62-e6bc-4249-8221-78df8a34ae7f"
      },
      "execution_count": null,
      "outputs": [
        {
          "output_type": "stream",
          "name": "stdout",
          "text": [
            "Mounted at /content/drive\n"
          ]
        }
      ]
    },
    {
      "cell_type": "code",
      "source": [
        "model_name = \"resnet_v2_50\"\n",
        "model_handle = \"https://tfhub.dev/google/imagenet/resnet v2 50/feature-vector/5\"\n",
        "pixels = (224, 244)\n",
        "print(f\"Selected model: {model_name} : {model_handle}\")\n",
        "IMAGE_SIZE = (pixels, pixels)\n",
        "print(f\"Input sie {IMAGE_SIZE}\")\n",
        "BATCH_SIZE = 16#@param {type: \"integer\"}"
      ],
      "metadata": {
        "colab": {
          "base_uri": "https://localhost:8080/"
        },
        "id": "CyDNJBdqVWXZ",
        "outputId": "d0923527-87dd-4787-fea2-dcffda8a2628"
      },
      "execution_count": null,
      "outputs": [
        {
          "output_type": "stream",
          "name": "stdout",
          "text": [
            "Selected model: resnet_v2_50 : https://tfhub.dev/google/imagenet/resnet v2 50/feature-vector/5\n",
            "Input sie ((224, 244), (224, 244))\n"
          ]
        }
      ]
    },
    {
      "cell_type": "code",
      "source": [
        "data_dir = \"/content/drive/My Drive/AI Data/train\"\n",
        "def build_dataset(subset):\n",
        "  return tf.keras.preprocessing.image_dataset_from_directory(data_dir,validation_split=.10,subset=subset,label_mode=\"categorical\",seed=123,image_size=(224,224),batch_size=1)\n",
        "train_ds = build_dataset(\"training\")\n",
        "class_names = tuple(train_ds.class_names)\n",
        "train_size = train_ds.cardinality().numpy()\n",
        "train_ds = train_ds.unbatch().batch(BATCH_SIZE)\n",
        "train_ds = train_ds.repeat()\n",
        "normalization_layer = tf.keras.layers.Rescaling(1. / 255)\n",
        "preprocessing_model = tf.keras.Sequential([normalization_layer])\n",
        "do_data_augmentation = True #@param {type:\"boolean\"}\n",
        "if do_data_augmentation:\n",
        "  preprocessing_model.add(tf.keras.layers.RandomRotation(40))\n",
        "  preprocessing_model.add(tf.keras.layers.RandomTranslation(0, 0.2))\n",
        "  preprocessing_model.add(tf.keras.layers.RandomTranslation(0.2, 0))\n",
        "  # Like the old tf.keras.preprocessing.image.ImageDataGenerator(),\n",
        "  # image sizes are fixed when reading, and then a random zoom is applied.\n",
        "  # RandomCrop with a batch size of 1 and rebatch later.\n",
        "  preprocessing_model.add(tf.keras.layers.RandomZoom(0.2, 0.2))\n",
        "  preprocessing_model.add(tf.keras.layers.RandomFlip(mode=\"horizontal\"))\n",
        "train_ds = train_ds.map(lambda images, labels:(preprocessing_model(images), labels))\n",
        "val_ds = build_dataset(\"validation\")\n",
        "valid_size = val_ds.cardinality().numpy()\n",
        "val_ds = val_ds.unbatch().batch(BATCH_SIZE)\n",
        "val_ds = val_ds.map(lambda images, labels:(normalization_layer(images), labels))\n"
      ],
      "metadata": {
        "colab": {
          "base_uri": "https://localhost:8080/"
        },
        "id": "cseAKoHeXcAo",
        "outputId": "b798348e-c7f1-4b72-f42d-8266fa96d0a8"
      },
      "execution_count": null,
      "outputs": [
        {
          "output_type": "stream",
          "name": "stdout",
          "text": [
            "Found 3115 files belonging to 36 classes.\n",
            "Using 2804 files for training.\n",
            "Found 3115 files belonging to 36 classes.\n",
            "Using 311 files for validation.\n"
          ]
        }
      ]
    },
    {
      "cell_type": "code",
      "source": [
        "do_fine_tuning = True\n",
        "print(\"Building model with\", model_handle)\n",
        "model = tf.keras.Sequential([\n",
        "    # Explicitly define the input shape so the model can be properly\n",
        "    # loaded by the TFLiteConverter\n",
        "    tf.keras.layers.InputLayer(input_shape=(224, 224) + (3,)),\n",
        "    hub.KerasLayer(\"https://tfhub.dev/google/imagenet/resnet_v2_152/feature_vector/5\"),\n",
        "    tf.keras.layers.Dropout(rate=0.2),\n",
        "    tf.keras.layers.Dense(len(class_names),activation='sigmoid',\n",
        "    kernel_regularizer=tf.keras.regularizers.l2(0.0001))\n",
        "    ])\n",
        "model.build((None,)+(224, 244)+(3,))\n",
        "model.summary()"
      ],
      "metadata": {
        "colab": {
          "base_uri": "https://localhost:8080/"
        },
        "id": "IkM6h3b0fIIe",
        "outputId": "3f9845ed-43f7-4ab5-c5f6-07d9c06f8584"
      },
      "execution_count": null,
      "outputs": [
        {
          "output_type": "stream",
          "name": "stdout",
          "text": [
            "Building model with https://tfhub.dev/google/imagenet/resnet v2 50/feature-vector/5\n",
            "Model: \"sequential_1\"\n",
            "_________________________________________________________________\n",
            " Layer (type)                Output Shape              Param #   \n",
            "=================================================================\n",
            " keras_layer (KerasLayer)    (None, 2048)              58331648  \n",
            "                                                                 \n",
            " dropout (Dropout)           (None, 2048)              0         \n",
            "                                                                 \n",
            " dense (Dense)               (None, 36)                73764     \n",
            "                                                                 \n",
            "=================================================================\n",
            "Total params: 58,405,412\n",
            "Trainable params: 73,764\n",
            "Non-trainable params: 58,331,648\n",
            "_________________________________________________________________\n"
          ]
        }
      ]
    },
    {
      "cell_type": "code",
      "source": [
        "model_result = model.compile(\n",
        "  optimizer=tf.keras.optimizers.SGD(learning_rate=0.005, momentum=0.9),\n",
        "  loss=tf.keras.losses.CategoricalCrossentropy(from_logits=True, label_smoothing=0.1),\n",
        "  metrics=['accuracy'])\n",
        "\n",
        "steps_per_epoch = train_size // BATCH_SIZE\n",
        "\n",
        "validation_steps = valid_size // BATCH_SIZE\n",
        "\n",
        "hist = model.fit(\n",
        "\n",
        "train_ds,\n",
        "\n",
        "epochs=50, steps_per_epoch=steps_per_epoch,\n",
        "\n",
        "validation_data=val_ds,\n",
        "\n",
        "validation_steps=validation_steps).history"
      ],
      "metadata": {
        "colab": {
          "base_uri": "https://localhost:8080/"
        },
        "id": "vdiw1_LcfX99",
        "outputId": "92b48842-cc8c-4a85-cd0f-30a07eb7c200"
      },
      "execution_count": null,
      "outputs": [
        {
          "metadata": {
            "tags": null
          },
          "name": "stdout",
          "output_type": "stream",
          "text": [
            "Epoch 1/50\n"
          ]
        },
        {
          "metadata": {
            "tags": null
          },
          "name": "stderr",
          "output_type": "stream",
          "text": [
            "/usr/local/lib/python3.10/dist-packages/keras/backend.py:5561: UserWarning: \"`categorical_crossentropy` received `from_logits=True`, but the `output` argument was produced by a Softmax activation and thus does not represent logits. Was this intended?\n",
            "  output, from_logits = _get_logits(\n"
          ]
        },
        {
          "output_type": "stream",
          "name": "stdout",
          "text": [
            "175/175 [==============================] - 542s 3s/step - loss: 1.4966 - accuracy: 0.7829 - val_loss: 1.7336 - val_accuracy: 0.7566\n",
            "Epoch 2/50\n",
            "175/175 [==============================] - 118s 673ms/step - loss: 1.5112 - accuracy: 0.7794 - val_loss: 1.7781 - val_accuracy: 0.7401\n",
            "Epoch 3/50\n",
            "175/175 [==============================] - 111s 638ms/step - loss: 1.4911 - accuracy: 0.7826 - val_loss: 1.7424 - val_accuracy: 0.7632\n",
            "Epoch 4/50\n",
            "175/175 [==============================] - 109s 625ms/step - loss: 1.5168 - accuracy: 0.7805 - val_loss: 1.7875 - val_accuracy: 0.7467\n",
            "Epoch 5/50\n",
            "175/175 [==============================] - 117s 673ms/step - loss: 1.5162 - accuracy: 0.7744 - val_loss: 1.7901 - val_accuracy: 0.7500\n",
            "Epoch 6/50\n",
            "175/175 [==============================] - 115s 662ms/step - loss: 1.5056 - accuracy: 0.7884 - val_loss: 1.7441 - val_accuracy: 0.7434\n",
            "Epoch 7/50\n",
            "175/175 [==============================] - 99s 567ms/step - loss: 1.5452 - accuracy: 0.7672 - val_loss: 1.6988 - val_accuracy: 0.7500\n",
            "Epoch 8/50\n",
            "175/175 [==============================] - 117s 674ms/step - loss: 1.5279 - accuracy: 0.7765 - val_loss: 1.7820 - val_accuracy: 0.7270\n",
            "Epoch 9/50\n",
            "175/175 [==============================] - 109s 625ms/step - loss: 1.5012 - accuracy: 0.7823 - val_loss: 1.6695 - val_accuracy: 0.7434\n",
            "Epoch 10/50\n",
            "175/175 [==============================] - 100s 574ms/step - loss: 1.5316 - accuracy: 0.7794 - val_loss: 1.7407 - val_accuracy: 0.7664\n",
            "Epoch 11/50\n",
            "175/175 [==============================] - 108s 619ms/step - loss: 1.5263 - accuracy: 0.7733 - val_loss: 1.7380 - val_accuracy: 0.7533\n",
            "Epoch 12/50\n",
            "175/175 [==============================] - 117s 674ms/step - loss: 1.4739 - accuracy: 0.7891 - val_loss: 1.7455 - val_accuracy: 0.7368\n",
            "Epoch 13/50\n",
            "175/175 [==============================] - 98s 563ms/step - loss: 1.4709 - accuracy: 0.7909 - val_loss: 1.7196 - val_accuracy: 0.7599\n",
            "Epoch 14/50\n",
            "175/175 [==============================] - 118s 676ms/step - loss: 1.5301 - accuracy: 0.7801 - val_loss: 1.8762 - val_accuracy: 0.7204\n",
            "Epoch 15/50\n",
            "175/175 [==============================] - 107s 612ms/step - loss: 1.4867 - accuracy: 0.7830 - val_loss: 1.7069 - val_accuracy: 0.7401\n",
            "Epoch 16/50\n",
            "175/175 [==============================] - 96s 552ms/step - loss: 1.4927 - accuracy: 0.7841 - val_loss: 1.7216 - val_accuracy: 0.7368\n",
            "Epoch 17/50\n",
            "175/175 [==============================] - 112s 643ms/step - loss: 1.4885 - accuracy: 0.7862 - val_loss: 2.0022 - val_accuracy: 0.7664\n",
            "Epoch 18/50\n",
            "175/175 [==============================] - 94s 541ms/step - loss: 1.4362 - accuracy: 0.8020 - val_loss: 1.7298 - val_accuracy: 0.7401\n",
            "Epoch 19/50\n",
            "175/175 [==============================] - 111s 638ms/step - loss: 1.4765 - accuracy: 0.7905 - val_loss: 1.7107 - val_accuracy: 0.7632\n",
            "Epoch 20/50\n",
            "175/175 [==============================] - 104s 596ms/step - loss: 1.4971 - accuracy: 0.7844 - val_loss: 1.7951 - val_accuracy: 0.7467\n",
            "Epoch 21/50\n",
            "175/175 [==============================] - 96s 550ms/step - loss: 1.4850 - accuracy: 0.7823 - val_loss: 1.6738 - val_accuracy: 0.7467\n",
            "Epoch 22/50\n",
            "175/175 [==============================] - 116s 667ms/step - loss: 1.4424 - accuracy: 0.8006 - val_loss: 1.7969 - val_accuracy: 0.7566\n",
            "Epoch 23/50\n",
            "175/175 [==============================] - 93s 532ms/step - loss: 1.4835 - accuracy: 0.7952 - val_loss: 1.7083 - val_accuracy: 0.7500\n",
            "Epoch 24/50\n",
            "175/175 [==============================] - 110s 632ms/step - loss: 1.5047 - accuracy: 0.7787 - val_loss: 1.7561 - val_accuracy: 0.7500\n",
            "Epoch 25/50\n",
            "175/175 [==============================] - 101s 581ms/step - loss: 1.4738 - accuracy: 0.7862 - val_loss: 1.7120 - val_accuracy: 0.7270\n",
            "Epoch 26/50\n",
            "175/175 [==============================] - 96s 551ms/step - loss: 1.4687 - accuracy: 0.7877 - val_loss: 1.8830 - val_accuracy: 0.7204\n",
            "Epoch 27/50\n",
            "175/175 [==============================] - 113s 649ms/step - loss: 1.4404 - accuracy: 0.8016 - val_loss: 1.8299 - val_accuracy: 0.7138\n",
            "Epoch 28/50\n",
            "175/175 [==============================] - 104s 598ms/step - loss: 1.4849 - accuracy: 0.7862 - val_loss: 1.8366 - val_accuracy: 0.7138\n",
            "Epoch 29/50\n",
            "175/175 [==============================] - 100s 576ms/step - loss: 1.5272 - accuracy: 0.7783 - val_loss: 2.0171 - val_accuracy: 0.7039\n",
            "Epoch 30/50\n",
            "175/175 [==============================] - 93s 536ms/step - loss: 1.4680 - accuracy: 0.7887 - val_loss: 1.7974 - val_accuracy: 0.7270\n",
            "Epoch 31/50\n",
            "175/175 [==============================] - 112s 643ms/step - loss: 1.4681 - accuracy: 0.7938 - val_loss: 1.7362 - val_accuracy: 0.7171\n",
            "Epoch 32/50\n",
            "175/175 [==============================] - 90s 518ms/step - loss: 1.4450 - accuracy: 0.7970 - val_loss: 1.6449 - val_accuracy: 0.7434\n",
            "Epoch 33/50\n",
            "175/175 [==============================] - 111s 638ms/step - loss: 1.4780 - accuracy: 0.7927 - val_loss: 1.7954 - val_accuracy: 0.7171\n",
            "Epoch 34/50\n",
            "175/175 [==============================] - 102s 587ms/step - loss: 1.4594 - accuracy: 0.7988 - val_loss: 1.8920 - val_accuracy: 0.7138\n",
            "Epoch 35/50\n",
            "175/175 [==============================] - 101s 582ms/step - loss: 1.5171 - accuracy: 0.7733 - val_loss: 1.7216 - val_accuracy: 0.7566\n",
            "Epoch 36/50\n",
            "175/175 [==============================] - 95s 543ms/step - loss: 1.4771 - accuracy: 0.7880 - val_loss: 1.6633 - val_accuracy: 0.7467\n",
            "Epoch 37/50\n",
            "175/175 [==============================] - 113s 651ms/step - loss: 1.4889 - accuracy: 0.7963 - val_loss: 1.9003 - val_accuracy: 0.7434\n",
            "Epoch 38/50\n",
            "175/175 [==============================] - 104s 597ms/step - loss: 1.5075 - accuracy: 0.7852 - val_loss: 1.8107 - val_accuracy: 0.7434\n",
            "Epoch 39/50\n",
            "175/175 [==============================] - 104s 594ms/step - loss: 1.4645 - accuracy: 0.7783 - val_loss: 1.7314 - val_accuracy: 0.7533\n",
            "Epoch 40/50\n",
            "175/175 [==============================] - 93s 536ms/step - loss: 1.4822 - accuracy: 0.7945 - val_loss: 1.7424 - val_accuracy: 0.7632\n",
            "Epoch 41/50\n",
            "175/175 [==============================] - 102s 587ms/step - loss: 1.5121 - accuracy: 0.7747 - val_loss: 1.7816 - val_accuracy: 0.7467\n",
            "Epoch 42/50\n",
            "175/175 [==============================] - 100s 574ms/step - loss: 1.4839 - accuracy: 0.7873 - val_loss: 1.7536 - val_accuracy: 0.7500\n",
            "Epoch 43/50\n",
            "175/175 [==============================] - 103s 589ms/step - loss: 1.4403 - accuracy: 0.7999 - val_loss: 1.7373 - val_accuracy: 0.7796\n",
            "Epoch 44/50\n",
            "175/175 [==============================] - 102s 587ms/step - loss: 1.5058 - accuracy: 0.7891 - val_loss: 1.7744 - val_accuracy: 0.7632\n",
            "Epoch 45/50\n",
            "175/175 [==============================] - 101s 579ms/step - loss: 1.5193 - accuracy: 0.7794 - val_loss: 1.7485 - val_accuracy: 0.7566\n",
            "Epoch 46/50\n",
            "175/175 [==============================] - 112s 643ms/step - loss: 1.4405 - accuracy: 0.7945 - val_loss: 1.7005 - val_accuracy: 0.7664\n",
            "Epoch 47/50\n",
            "175/175 [==============================] - 92s 528ms/step - loss: 1.4760 - accuracy: 0.7895 - val_loss: 1.7716 - val_accuracy: 0.7566\n",
            "Epoch 48/50\n",
            "175/175 [==============================] - 100s 575ms/step - loss: 1.4248 - accuracy: 0.8146 - val_loss: 1.6508 - val_accuracy: 0.7664\n",
            "Epoch 49/50\n",
            "175/175 [==============================] - 112s 645ms/step - loss: 1.4764 - accuracy: 0.7934 - val_loss: 1.7729 - val_accuracy: 0.7434\n",
            "Epoch 50/50\n",
            "175/175 [==============================] - 91s 519ms/step - loss: 1.4808 - accuracy: 0.7920 - val_loss: 1.7246 - val_accuracy: 0.7533\n"
          ]
        }
      ]
    },
    {
      "cell_type": "code",
      "source": [
        "model.save (\"/content/drive/My Drive/AI Data/\"+model_name+\".h5\")\n"
      ],
      "metadata": {
        "id": "d43QKhcqrtcR"
      },
      "execution_count": null,
      "outputs": []
    },
    {
      "cell_type": "code",
      "source": [
        "# Load model if already trained\n",
        "from keras.models import load_model\n",
        "model = load_model(\"/content/drive/My Drive/AI Data/resnet_v2_50.h5\",custom_objects={\"KerasLayer\":hub.KerasLayer})"
      ],
      "metadata": {
        "id": "etAeRXly0rOu"
      },
      "execution_count": null,
      "outputs": []
    },
    {
      "cell_type": "code",
      "source": [
        "plt.plot(hist['accuracy'] , color = 'red' , label = 'accuracy')\n",
        "plt.plot(hist['val_accuracy'] , color = 'blue' , label = 'val_accuracy')"
      ],
      "metadata": {
        "id": "-UGi3wPE03Wi",
        "colab": {
          "base_uri": "https://localhost:8080/",
          "height": 452
        },
        "outputId": "7bd0f507-83fb-4454-e120-e5d26f50fade"
      },
      "execution_count": null,
      "outputs": [
        {
          "output_type": "execute_result",
          "data": {
            "text/plain": [
              "[<matplotlib.lines.Line2D at 0x7f109f40a5f0>]"
            ]
          },
          "metadata": {},
          "execution_count": 11
        },
        {
          "output_type": "display_data",
          "data": {
            "text/plain": [
              "<Figure size 640x480 with 1 Axes>"
            ],
            "image/png": "[encoded data removed]"
          },
          "metadata": {}
        }
      ]
    }
  ]
}